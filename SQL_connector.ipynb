{
 "cells": [
  {
   "cell_type": "code",
   "execution_count": 1,
   "id": "48531a2a",
   "metadata": {},
   "outputs": [
    {
     "name": "stdout",
     "output_type": "stream",
     "text": [
      "Enter the city name: Mumbai\n",
      "Top 7 spenders in Mumbai:\n",
      "Customer ID: 101, Name: John Doe, Total Spent: 1470.00\n",
      "Customer ID: 105, Name: Charlie Lee, Total Spent: 740.00\n",
      "Customer ID: 103, Name: Alice Brown, Total Spent: 280.00\n"
     ]
    }
   ],
   "source": [
    "import mysql.connector\n",
    "\n",
    "# Function to connect to the database\n",
    "def connect_to_database():\n",
    "    return mysql.connector.connect(\n",
    "        host=\"localhost\",       \n",
    "        user=\"root\",       \n",
    "        password=\"root\",  \n",
    "        database=\"Giva\"   \n",
    "    )\n",
    "\n",
    "# Function to execute the query\n",
    "def get_top_spenders(city):\n",
    "    # Connect to the database\n",
    "    conn = connect_to_database()\n",
    "    cursor = conn.cursor()\n",
    "\n",
    "    #SQL query with a placeholder for the city\n",
    "    query = \"\"\"\n",
    "    SELECT \n",
    "        cd.customer_id, \n",
    "        cd.name, \n",
    "        SUM(sd.price - sd.discount) AS total_spent\n",
    "    FROM \n",
    "        Customer_Details cd\n",
    "    JOIN \n",
    "        Sales_Data sd \n",
    "    ON \n",
    "        cd.customer_id = sd.customer_id\n",
    "    WHERE \n",
    "        sd.order_city = %s\n",
    "    GROUP BY \n",
    "        cd.customer_id, cd.name\n",
    "    ORDER BY \n",
    "        total_spent DESC\n",
    "    LIMIT 7;\n",
    "    \"\"\"\n",
    "\n",
    "    #query with the user input\n",
    "    cursor.execute(query, (city,))\n",
    "\n",
    "    #Fetch the results\n",
    "    results = cursor.fetchall()\n",
    "\n",
    "    # Close connection\n",
    "    cursor.close()\n",
    "    conn.close()\n",
    "\n",
    "    return results\n",
    "\n",
    "# Main program\n",
    "if __name__ == \"__main__\":\n",
    "    # Get user input for the city\n",
    "    city = input(\"Enter the city name: \")\n",
    "\n",
    "    # Call the function to get the top spenders\n",
    "    top_spenders = get_top_spenders(city)\n",
    "\n",
    "    # Display the results\n",
    "    if top_spenders:\n",
    "        print(f\"Top 7 spenders in {city}:\")\n",
    "        for row in top_spenders:\n",
    "            print(f\"Customer ID: {row[0]}, Name: {row[1]}, Total Spent: {row[2]}\")\n",
    "    else:\n",
    "        print(f\"No data found for the city: {city}\")"
   ]
  }
 ],
 "metadata": {
  "kernelspec": {
   "display_name": "Python 3 (ipykernel)",
   "language": "python",
   "name": "python3"
  },
  "language_info": {
   "codemirror_mode": {
    "name": "ipython",
    "version": 3
   },
   "file_extension": ".py",
   "mimetype": "text/x-python",
   "name": "python",
   "nbconvert_exporter": "python",
   "pygments_lexer": "ipython3",
   "version": "3.9.12"
  }
 },
 "nbformat": 4,
 "nbformat_minor": 5
}
